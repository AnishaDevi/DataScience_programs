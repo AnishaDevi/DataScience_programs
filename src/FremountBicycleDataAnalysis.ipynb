{
 "cells": [
  {
   "cell_type": "code",
   "execution_count": 45,
   "id": "8f34c28d",
   "metadata": {},
   "outputs": [
    {
     "data": {
      "text/html": [
       "<div>\n",
       "<style scoped>\n",
       "    .dataframe tbody tr th:only-of-type {\n",
       "        vertical-align: middle;\n",
       "    }\n",
       "\n",
       "    .dataframe tbody tr th {\n",
       "        vertical-align: top;\n",
       "    }\n",
       "\n",
       "    .dataframe thead th {\n",
       "        text-align: right;\n",
       "    }\n",
       "</style>\n",
       "<table border=\"1\" class=\"dataframe\">\n",
       "  <thead>\n",
       "    <tr style=\"text-align: right;\">\n",
       "      <th></th>\n",
       "      <th>Date</th>\n",
       "      <th>Total</th>\n",
       "      <th>East</th>\n",
       "      <th>West</th>\n",
       "    </tr>\n",
       "  </thead>\n",
       "  <tbody>\n",
       "    <tr>\n",
       "      <th>0</th>\n",
       "      <td>08/01/2022 12:00:00 AM</td>\n",
       "      <td>23.0</td>\n",
       "      <td>7.0</td>\n",
       "      <td>16.0</td>\n",
       "    </tr>\n",
       "    <tr>\n",
       "      <th>1</th>\n",
       "      <td>08/01/2022 01:00:00 AM</td>\n",
       "      <td>12.0</td>\n",
       "      <td>5.0</td>\n",
       "      <td>7.0</td>\n",
       "    </tr>\n",
       "    <tr>\n",
       "      <th>2</th>\n",
       "      <td>08/01/2022 02:00:00 AM</td>\n",
       "      <td>3.0</td>\n",
       "      <td>0.0</td>\n",
       "      <td>3.0</td>\n",
       "    </tr>\n",
       "    <tr>\n",
       "      <th>3</th>\n",
       "      <td>08/01/2022 03:00:00 AM</td>\n",
       "      <td>5.0</td>\n",
       "      <td>2.0</td>\n",
       "      <td>3.0</td>\n",
       "    </tr>\n",
       "    <tr>\n",
       "      <th>4</th>\n",
       "      <td>08/01/2022 04:00:00 AM</td>\n",
       "      <td>10.0</td>\n",
       "      <td>2.0</td>\n",
       "      <td>8.0</td>\n",
       "    </tr>\n",
       "  </tbody>\n",
       "</table>\n",
       "</div>"
      ],
      "text/plain": [
       "                     Date  Total  East  West\n",
       "0  08/01/2022 12:00:00 AM   23.0   7.0  16.0\n",
       "1  08/01/2022 01:00:00 AM   12.0   5.0   7.0\n",
       "2  08/01/2022 02:00:00 AM    3.0   0.0   3.0\n",
       "3  08/01/2022 03:00:00 AM    5.0   2.0   3.0\n",
       "4  08/01/2022 04:00:00 AM   10.0   2.0   8.0"
      ]
     },
     "execution_count": 45,
     "metadata": {},
     "output_type": "execute_result"
    }
   ],
   "source": [
    "import pandas as pd\n",
    "import matplotlib.pyplot as plt\n",
    "data = pd.read_csv('FBC.csv')\n",
    "data.columns=['Date','Total','East','West']\n",
    "data.head()"
   ]
  },
  {
   "cell_type": "code",
   "execution_count": 46,
   "id": "6505fcc8",
   "metadata": {},
   "outputs": [
    {
     "data": {
      "text/plain": [
       "hours\n",
       "0       41979.0\n",
       "1       22429.0\n",
       "2       14725.0\n",
       "3       10715.0\n",
       "4       25220.0\n",
       "5       93333.0\n",
       "6      321717.0\n",
       "7      796326.0\n",
       "8     1130753.0\n",
       "9      691191.0\n",
       "10     406322.0\n",
       "11     383131.0\n",
       "12     414229.0\n",
       "13     440745.0\n",
       "14     483604.0\n",
       "15     603730.0\n",
       "16     926322.0\n",
       "17    1428644.0\n",
       "18     978225.0\n",
       "19     506584.0\n",
       "20     295364.0\n",
       "21     191596.0\n",
       "22     122153.0\n",
       "23      78719.0\n",
       "Name: Total, dtype: float64"
      ]
     },
     "execution_count": 46,
     "metadata": {},
     "output_type": "execute_result"
    }
   ],
   "source": [
    "#1\n",
    "\n",
    "data['date']=pd.to_datetime(data['Date']).dt.date\n",
    "data['hours']=pd.to_datetime(data['Date']).dt.hour\n",
    "data_hours=data.groupby('hours')['Total'].sum()\n",
    "data_hours"
   ]
  },
  {
   "cell_type": "code",
   "execution_count": 38,
   "id": "41331641",
   "metadata": {},
   "outputs": [],
   "source": [
    "#data_hours=data.groupby('hours')['Total'].sum()\n",
    "#data_hours"
   ]
  },
  {
   "cell_type": "code",
   "execution_count": 52,
   "id": "2f773086",
   "metadata": {},
   "outputs": [
    {
     "name": "stdout",
     "output_type": "stream",
     "text": [
      "week_number\n",
      "1     102460.0\n",
      "2     131470.0\n",
      "3     130790.0\n",
      "4     139467.0\n",
      "5     144929.0\n",
      "6     123671.0\n",
      "7     128286.0\n",
      "8     126459.0\n",
      "9     149086.0\n",
      "10    155005.0\n",
      "11    157898.0\n",
      "12    168967.0\n",
      "13    182981.0\n",
      "14    178711.0\n",
      "15    182740.0\n",
      "16    192697.0\n",
      "17    215899.0\n",
      "18    243114.0\n",
      "19    268961.0\n",
      "20    261970.0\n",
      "21    253014.0\n",
      "22    251197.0\n",
      "23    262589.0\n",
      "24    256333.0\n",
      "25    267802.0\n",
      "26    265217.0\n",
      "27    258455.0\n",
      "28    286391.0\n",
      "29    286883.0\n",
      "30    283401.0\n",
      "31    282504.0\n",
      "32    285689.0\n",
      "33    270721.0\n",
      "34    257878.0\n",
      "35    253642.0\n",
      "36    233059.0\n",
      "37    235698.0\n",
      "38    224006.0\n",
      "39    219310.0\n",
      "40    237805.0\n",
      "41    216470.0\n",
      "42    203653.0\n",
      "43    194441.0\n",
      "44    186042.0\n",
      "45    184445.0\n",
      "46    175866.0\n",
      "47    132842.0\n",
      "48    128993.0\n",
      "49    133362.0\n",
      "50    125905.0\n",
      "51     97074.0\n",
      "52     58396.0\n",
      "53     13112.0\n",
      "Name: Total, dtype: float64\n"
     ]
    },
    {
     "name": "stderr",
     "output_type": "stream",
     "text": [
      "C:\\Users\\Student\\AppData\\Local\\Temp\\ipykernel_13748\\1552619670.py:5: FutureWarning: weekofyear and week have been deprecated, please use DatetimeIndex.isocalendar().week instead, which returns a Series. To exactly reproduce the behavior of week and weekofyear and return an Index, you may call pd.Int64Index(idx.isocalendar().week)\n",
      "  data['week_number'] = data.index.week\n"
     ]
    }
   ],
   "source": [
    "#2\n",
    "\n",
    "data['Date'] = pd.to_datetime(data['date'])\n",
    "data.set_index('Date',inplace=True)\n",
    "data['week_number'] = data.index.week\n",
    "weekly_counts = data.groupby('week_number')['Total'].sum()\n",
    "\n",
    "print(weekly_counts)"
   ]
  },
  {
   "cell_type": "code",
   "execution_count": 53,
   "id": "4938300b",
   "metadata": {},
   "outputs": [
    {
     "data": {
      "text/plain": [
       "date\n",
       "2012-10-03    146.708333\n",
       "2012-10-04    144.791667\n",
       "2012-10-05    131.166667\n",
       "2012-10-06     83.583333\n",
       "2012-10-07     89.250000\n",
       "                 ...    \n",
       "2023-11-26     53.125000\n",
       "2023-11-27     86.458333\n",
       "2023-11-28    100.666667\n",
       "2023-11-29     93.750000\n",
       "2023-11-30     78.125000\n",
       "Name: Total, Length: 4076, dtype: float64"
      ]
     },
     "execution_count": 53,
     "metadata": {},
     "output_type": "execute_result"
    }
   ],
   "source": [
    "data_avg_bicycle_count = data.groupby('date')['Total'].mean()\n",
    "data_avg_bicycle_count"
   ]
  }
 ],
 "metadata": {
  "kernelspec": {
   "display_name": "Python 3 (ipykernel)",
   "language": "python",
   "name": "python3"
  },
  "language_info": {
   "codemirror_mode": {
    "name": "ipython",
    "version": 3
   },
   "file_extension": ".py",
   "mimetype": "text/x-python",
   "name": "python",
   "nbconvert_exporter": "python",
   "pygments_lexer": "ipython3",
   "version": "3.10.9"
  }
 },
 "nbformat": 4,
 "nbformat_minor": 5
}
